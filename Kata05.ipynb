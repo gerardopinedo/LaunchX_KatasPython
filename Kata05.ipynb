{
 "cells": [
  {
   "cell_type": "markdown",
   "metadata": {},
   "source": [
    "Utilizar operadores aritméticos"
   ]
  },
  {
   "cell_type": "code",
   "execution_count": 1,
   "metadata": {},
   "outputs": [
    {
     "name": "stdout",
     "output_type": "stream",
     "text": [
      "Distancia en Km  1622600000\n",
      "Distancia en Millas  1007634600.0\n"
     ]
    }
   ],
   "source": [
    "# Crear variables para almacenar las dos distancias\n",
    "# ¡Asegurate de quitar las comas!\n",
    "\n",
    "# Calcular la distancia entre planetas\n",
    "\n",
    "planeta_01 = 57900000 # Mercurio\n",
    "planeta_02 = 108200000 # Venus\n",
    "planeta_03 = 149600000 # Tierra\n",
    "planeta_04 = 227900000 # Marte\n",
    "planeta_05 = 778600000 # Jupiter\n",
    "planeta_06 = 1433500000 # Saturno\n",
    "planeta_07 = 2872500000 # Urano\n",
    "planeta_08 = 4495100000 # Neptuno\n",
    "\n",
    "distancia = planeta_08 - planeta_07\n",
    "distancia_millas = distancia * 0.621\n",
    "print ('Distancia en Km ' , distancia)\n",
    "print ('Distancia en Millas ', distancia_millas)"
   ]
  },
  {
   "cell_type": "markdown",
   "metadata": {},
   "source": [
    "convierte cadenas en números y usa valores absolutos"
   ]
  },
  {
   "cell_type": "code",
   "execution_count": 5,
   "metadata": {},
   "outputs": [
    {
     "name": "stdout",
     "output_type": "stream",
     "text": [
      "408623142  en kms\n",
      "253754971.182 en millas\n"
     ]
    }
   ],
   "source": [
    "# Muestra datos \n",
    "# print ('Planeta --> Distancia al sol\\n'.title(),'-'*30)\n",
    "# print ('Mercurio --> 57900000\\n Venus --> 108200000\\n Tierra --> 149600000\\n Marte --> 227900000\\n Júpiter --> 778600000\\n Saturno --> 1433500000\\n Urano --> 2872500000\\n Neptuno --> 4495100000\\n')\n",
    "\n",
    "# Solicita los datos\n",
    "primer_planeta = input('Distancia del sol al primer planeta: ')\n",
    "segundo_planeta = input('Distancia del sol al segundo planeta: ')\n",
    "\n",
    "# Convierte datos\n",
    "primer_planeta = int(primer_planeta)\n",
    "segundo_planeta = int(segundo_planeta)\n",
    "\n",
    "# Calculando distancia\n",
    "distancia = segundo_planeta - primer_planeta\n",
    "print(distancia, ' en kms')\n",
    "\n",
    "#  Convertir kms --> Millas\n",
    "distancia_millas = distancia * 0.621\n",
    "print(abs(distancia_millas), 'en millas')"
   ]
  }
 ],
 "metadata": {
  "interpreter": {
   "hash": "aee8b7b246df8f9039afb4144a1f6fd8d2ca17a180786b69acc140d282b71a49"
  },
  "kernelspec": {
   "display_name": "Python 3.10.2 64-bit",
   "language": "python",
   "name": "python3"
  },
  "language_info": {
   "codemirror_mode": {
    "name": "ipython",
    "version": 3
   },
   "file_extension": ".py",
   "mimetype": "text/x-python",
   "name": "python",
   "nbconvert_exporter": "python",
   "pygments_lexer": "ipython3",
   "version": "3.10.2"
  },
  "orig_nbformat": 4
 },
 "nbformat": 4,
 "nbformat_minor": 2
}
