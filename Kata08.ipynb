{
 "cells": [
  {
   "cell_type": "markdown",
   "metadata": {},
   "source": [
    "Creación de diccionarios de Python"
   ]
  },
  {
   "cell_type": "code",
   "execution_count": 4,
   "metadata": {},
   "outputs": [
    {
     "name": "stdout",
     "output_type": "stream",
     "text": [
      "Mars has 2 moons\n",
      "Mars has a polar circunference of 6752\n"
     ]
    }
   ],
   "source": [
    "# Crea un dicionario llamado planet con los datos propuestos\n",
    "planet = {\n",
    "    'name': 'Mars',\n",
    "    'moons': 2\n",
    "}\n",
    "\n",
    "# Muestra el nombre del planeta y el número de lunas que tiene\n",
    "print(f'{planet[\"name\"]} has {planet[\"moons\"]} moons')\n",
    "\n",
    "# Agrega la clave circunferencia con los datos proporcionados previamente\n",
    "planet['circunference (km)'] = {\n",
    "    'polar':6752,\n",
    "    'equatorial':6792\n",
    "}\n",
    "\n",
    "# Imprime el nombre del planeta con su circunferencia polar\n",
    "print(f'{planet[\"name\"]} has a polar circunference of {planet[\"circunference (km)\"][\"polar\"]}')\n"
   ]
  },
  {
   "cell_type": "code",
   "execution_count": 8,
   "metadata": {},
   "outputs": [
    {
     "name": "stdout",
     "output_type": "stream",
     "text": [
      "Total de planetas 12\n",
      "Total de lunas:  214\n",
      "Promedio de lunas:  17.833333333333332\n"
     ]
    }
   ],
   "source": [
    "# Planets and moons\n",
    "planet_moons = {\n",
    "    'mercury': 0,\n",
    "    'venus': 0,\n",
    "    'earth': 1,\n",
    "    'mars': 2,\n",
    "    'jupiter': 79,\n",
    "    'saturn': 82,\n",
    "    'uranus': 27,\n",
    "    'neptune': 14,\n",
    "    'pluto': 5,\n",
    "    'haumea': 2,\n",
    "    'makemake': 1,\n",
    "    'eris': 1\n",
    "}\n",
    "\n",
    "# Obtener número de lunas\n",
    "moons = planet_moons.values()\n",
    "\n",
    "# Obtener total de planetas\n",
    "planets = len(planet_moons.keys())\n",
    "\n",
    "total_moons = 0\n",
    "for moon in moons:\n",
    "    total_moons = total_moons + moon\n",
    "\n",
    "print('Total de planetas', planets)\n",
    "print('Total de lunas: ', total_moons)\n",
    "\n",
    "# Promedio de lunas\n",
    "average = total_moons / planets\n",
    "\n",
    "# Promedio de lunas\n",
    "print ('Promedio de lunas: ', average) "
   ]
  }
 ],
 "metadata": {
  "interpreter": {
   "hash": "aee8b7b246df8f9039afb4144a1f6fd8d2ca17a180786b69acc140d282b71a49"
  },
  "kernelspec": {
   "display_name": "Python 3.10.2 64-bit",
   "language": "python",
   "name": "python3"
  },
  "language_info": {
   "codemirror_mode": {
    "name": "ipython",
    "version": 3
   },
   "file_extension": ".py",
   "mimetype": "text/x-python",
   "name": "python",
   "nbconvert_exporter": "python",
   "pygments_lexer": "ipython3",
   "version": "3.10.2"
  },
  "orig_nbformat": 4
 },
 "nbformat": 4,
 "nbformat_minor": 2
}
