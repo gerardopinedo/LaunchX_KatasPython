{
 "cells": [
  {
   "cell_type": "markdown",
   "metadata": {},
   "source": [
    "# Añadir el codigo necesario para crear una variable que guare la velocidad y el tamaño del asteroide\n",
    "# Escribe una expresión de prueba para calcular si necesita una advertencia.\n",
    "# Agregue las instrucciones que se ejecutarán si la expresión de prueba es True o false. "
   ]
  },
  {
   "cell_type": "code",
   "execution_count": 1,
   "metadata": {},
   "outputs": [
    {
     "name": "stdout",
     "output_type": "stream",
     "text": [
      "Alerta! Un asteroide se acerca a velocidad peligrosa!\n"
     ]
    }
   ],
   "source": [
    "asteroide  = 49\n",
    "if asteroide > 25:\n",
    "    print (\"Alerta! Un asteroide se acerca a velocidad peligrosa!\")\n",
    "else:\n",
    "    print (\"Sin peligro inminente\")"
   ]
  },
  {
   "cell_type": "markdown",
   "metadata": {},
   "source": [
    "# Agregue el código para crear una variable para un asteroide que viaja a 19 km/s\n",
    "# Escribe varias expresiones de prueba para determinar si puedes ver el rayo de luz desde la tierra.\n",
    "# Agregue las instrucciones que se ejecutarán si las expresiones de prueba son True o false. "
   ]
  },
  {
   "cell_type": "code",
   "execution_count": 8,
   "metadata": {},
   "outputs": [
    {
     "name": "stdout",
     "output_type": "stream",
     "text": [
      "Alerta! Un asteroide se acerca a velocidad peligrosa!\n"
     ]
    }
   ],
   "source": [
    "asteroide = 25\n",
    "if asteroide < 20:\n",
    "    print (\"Sin peligro inminente\")\n",
    "elif asteroide >= 20 and asteroide < 25:\n",
    "    print (\"Se ha generado un destelleo en el cielo, no representa peligro\")\n",
    "elif asteroide >= 25:\n",
    "    print (\"Alerta! Un asteroide se acerca a velocidad peligrosa!\")"
   ]
  }
 ],
 "metadata": {
  "interpreter": {
   "hash": "aee8b7b246df8f9039afb4144a1f6fd8d2ca17a180786b69acc140d282b71a49"
  },
  "kernelspec": {
   "display_name": "Python 3.10.2 64-bit",
   "language": "python",
   "name": "python3"
  },
  "language_info": {
   "codemirror_mode": {
    "name": "ipython",
    "version": 3
   },
   "file_extension": ".py",
   "mimetype": "text/x-python",
   "name": "python",
   "nbconvert_exporter": "python",
   "pygments_lexer": "ipython3",
   "version": "3.10.2"
  },
  "orig_nbformat": 4
 },
 "nbformat": 4,
 "nbformat_minor": 2
}
