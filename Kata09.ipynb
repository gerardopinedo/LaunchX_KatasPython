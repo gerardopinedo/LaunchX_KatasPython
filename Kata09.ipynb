{
 "cells": [
  {
   "cell_type": "markdown",
   "metadata": {},
   "source": [
    "Uso de funciones en Python"
   ]
  },
  {
   "cell_type": "code",
   "execution_count": 7,
   "metadata": {},
   "outputs": [
    {
     "name": "stdout",
     "output_type": "stream",
     "text": [
      "Reporte Combustible:\n",
      "    Promedio de combustible: 78.33333333333333%\n",
      "    Tanque 01: 80%\n",
      "    Tanque 02 70%\n",
      "    Tanque 03 85% \n",
      "    \n",
      "Reporte Combustible:\n",
      "    Total Promedio: 78.0% \n",
      "    Tanque 01: 88%\n",
      "    Tanque 02 76%\n",
      "    Tanque 03 70%  \n",
      "    \n"
     ]
    }
   ],
   "source": [
    "# Función para leer 3 tanques de combustible y muestra el promedio\n",
    "def tanques_combustible(tanque_01, tanque_02, tanque_03):\n",
    "    promedio = (tanque_01 + tanque_02 + tanque_03) / 3\n",
    "    return f\"\"\"Reporte Combustible:\n",
    "    Promedio de combustible: {promedio}%\n",
    "    Tanque 01: {tanque_01}%\n",
    "    Tanque 02 {tanque_02}%\n",
    "    Tanque 03 {tanque_03}% \n",
    "    \"\"\"\n",
    "\n",
    "# Llamanos a la función que genera el reporte print(funcion(tanque1, tanque2, tanque3))\n",
    "print(tanques_combustible(80, 70, 85))\n",
    "\n",
    "# Función Promedio\n",
    "def promedio(values):\n",
    "    total = sum(values)\n",
    "    numero_elementos = len(values)\n",
    "    return total / numero_elementos\n",
    "\n",
    "promedio([80, 85, 81])\n",
    "\n",
    "# Actualiza la funcion\n",
    "def tanques_combustible(tanque_01, tanque_02, tanque_03):\n",
    "    return f\"\"\"Reporte Combustible:\n",
    "    Total Promedio: {promedio([tanque_01, tanque_02, tanque_03])}% \n",
    "    Tanque 01: {tanque_01}%\n",
    "    Tanque 02 {tanque_02}%\n",
    "    Tanque 03 {tanque_03}%  \n",
    "    \"\"\"\n",
    "\n",
    "print(tanques_combustible(88, 76, 70))"
   ]
  },
  {
   "cell_type": "code",
   "execution_count": 6,
   "metadata": {},
   "outputs": [
    {
     "name": "stdout",
     "output_type": "stream",
     "text": [
      "\n",
      "    Mission to Moon\n",
      "    Total travel time: 65 minutes\n",
      "    Total fuel left: 500000 gallons\n",
      "    \n",
      "\n",
      "    Mission to Moon\n",
      "    Total travel time: 76 minutes\n",
      "    Total fuel left: 500000\n",
      "    \n",
      "\n",
      "    Mission to Moon\n",
      "    Total travel time: 74 minutes\n",
      "    Total fuel left: 500000\n",
      "    main tank --> 300000 gallons left\n",
      "external tank --> 200000 gallons left\n",
      "\n"
     ]
    }
   ],
   "source": [
    "# Función con un informe preciso de la misión. Considera hora de prelanzamiento, \n",
    "# tiempo de vuelo, destino, tanque externo y tanque interno\n",
    "def reporte_mision(hr_pre_lanzamiento, hr_vuelo, destino, tanque_reserva, tanque_principal):\n",
    "    return f\"\"\"\n",
    "    Mission to {destino}\n",
    "    Total travel time: {hr_pre_lanzamiento + hr_vuelo} minutes\n",
    "    Total fuel left: {tanque_reserva + tanque_principal} gallons\n",
    "    \"\"\"\n",
    "\n",
    "print(reporte_mision(14, 51, \"Moon\", 200000, 300000))\n",
    "\n",
    "# Escribe tu nueva función de reporte considerando lo anterior\n",
    "def reporte_mision(destino, *minutos, **reserva_combustible):\n",
    "    return f\"\"\"\n",
    "    Mission to {destino}\n",
    "    Total travel time: {sum(minutos)} minutes\n",
    "    Total fuel left: {sum(reserva_combustible.values())}\n",
    "    \"\"\"\n",
    "\n",
    "print(reporte_mision(\"Moon\", 10, 15, 51, main=300000, external=200000))\n",
    "\n",
    "# Escribe tu nueva función\n",
    "def reporte_mision(destino, *minutos, **reserva_combustible):\n",
    "    main_report = f\"\"\"\n",
    "    Mission to {destino}\n",
    "    Total travel time: {sum(minutos)} minutes\n",
    "    Total fuel left: {sum(reserva_combustible.values())}\n",
    "    \"\"\"\n",
    "    for tank_name, gallons in reserva_combustible.items():\n",
    "        main_report += f\"{tank_name} tank --> {gallons} gallons left\\n\"\n",
    "    return main_report\n",
    "\n",
    "print(reporte_mision(\"Moon\", 8, 11, 55, main=300000, external=200000))\n"
   ]
  }
 ],
 "metadata": {
  "interpreter": {
   "hash": "aee8b7b246df8f9039afb4144a1f6fd8d2ca17a180786b69acc140d282b71a49"
  },
  "kernelspec": {
   "display_name": "Python 3.10.2 64-bit",
   "language": "python",
   "name": "python3"
  },
  "language_info": {
   "codemirror_mode": {
    "name": "ipython",
    "version": 3
   },
   "file_extension": ".py",
   "mimetype": "text/x-python",
   "name": "python",
   "nbconvert_exporter": "python",
   "pygments_lexer": "ipython3",
   "version": "3.10.2"
  },
  "orig_nbformat": 4
 },
 "nbformat": 4,
 "nbformat_minor": 2
}
