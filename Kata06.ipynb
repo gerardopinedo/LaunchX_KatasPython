{
 "cells": [
  {
   "cell_type": "markdown",
   "metadata": {},
   "source": [
    "Crear y usar listas de Python"
   ]
  },
  {
   "cell_type": "code",
   "execution_count": 8,
   "metadata": {},
   "outputs": [
    {
     "name": "stdout",
     "output_type": "stream",
     "text": [
      "Hay  7  planetas en el sistema solar\n",
      "Pluton  es el último planeta\n",
      "Marte  Tiene la posición:  3  en el sistema solar\n",
      "Estos planetas están más cercas del sol que Marte\n",
      "['Mercurio', 'Venus', 'Tierra']\n",
      "Estos planetas están más lejos del sol que Marte\n",
      "['Jupiter', 'Saturno', 'Neptuno', 'Pluton']\n"
     ]
    }
   ],
   "source": [
    "#  Lista de planetas\n",
    "planets = ['Mercurio','Venus','Tierra','Marte','Jupiter','Saturno','Neptuno']\n",
    "print('Hay ',len(planets),' planetas en el sistema solar')\n",
    "\n",
    "# Agregamos a plutón y mostramos el último elemento\n",
    "planets.append('Pluton')\n",
    "print(planets[-1], ' es el último planeta')\n",
    "\n",
    "# Solicitar y buscar el nombre del planeta\n",
    "planeta = input('Indique el planeta a buscar (Primer letra en Mayúscula): ')\n",
    "planeta_index = planets.index(planeta)\n",
    "print (planeta, ' Tiene la posición: ', planeta_index, ' en el sistema solar')\n",
    "\n",
    "# Muestra los planetas mas cercanos al sol\n",
    "print('Estos planetas están más cercas del sol que ' + planeta)\n",
    "print(planets[0:planeta_index])\n",
    "\n",
    "# Muestra los planetas más lejanos al sol\n",
    "print('Estos planetas están más lejos del sol que ' + planeta)\n",
    "print(planets[planeta_index+1:])"
   ]
  }
 ],
 "metadata": {
  "interpreter": {
   "hash": "aee8b7b246df8f9039afb4144a1f6fd8d2ca17a180786b69acc140d282b71a49"
  },
  "kernelspec": {
   "display_name": "Python 3.10.2 64-bit",
   "language": "python",
   "name": "python3"
  },
  "language_info": {
   "codemirror_mode": {
    "name": "ipython",
    "version": 3
   },
   "file_extension": ".py",
   "mimetype": "text/x-python",
   "name": "python",
   "nbconvert_exporter": "python",
   "pygments_lexer": "ipython3",
   "version": "3.10.2"
  },
  "orig_nbformat": 4
 },
 "nbformat": 4,
 "nbformat_minor": 2
}
